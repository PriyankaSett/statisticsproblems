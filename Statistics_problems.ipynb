{
 "cells": [
  {
   "cell_type": "markdown",
   "id": "9fc11b26",
   "metadata": {},
   "source": [
    "## Statistics Problems"
   ]
  },
  {
   "cell_type": "markdown",
   "id": "61e7f096",
   "metadata": {},
   "source": [
    "###  Q-1. \n",
    "\n",
    " **A university wants to understand the relationship between the SAT scores of its applicants and their college GPA. They collect data on 500 students, including their SAT scores (out of 1600) and their college GPA (on a 4.0 scale). They find that the correlation coefficient between SAT scores and college GPA is 0.7. What does this correlation coefficient indicate about the relationship between SAT scores and college GPA?**\n",
    "\n",
    "\n",
    "- Ans : The coefficient indicates that SAT scores is strongly related with GPA. The correlation is positive, that means if GPA increases SAT scores also increase. "
   ]
  },
  {
   "cell_type": "markdown",
   "id": "0dddfedb",
   "metadata": {},
   "source": [
    "### Q-2. \n",
    "\n",
    "**Consider a dataset containing the heights (in centimeters) of 1000 individuals. The\n",
    "mean height is 170 cm with a standard deviation of 10 cm. The dataset is approximately\n",
    "normally distributed, and its skewness is approximately zero. Based on this information,\n",
    "answer the following questions:  \n",
    " a. What percentage of individuals in the dataset have heights between 160 cm\n",
    "and 180 cm?  \n",
    " b. If we randomly select 100 individuals from the dataset, what is the probability\n",
    "that their average height is greater than 175 cm?  \n",
    " c. Assuming the dataset follows a normal distribution, what is the z-score\n",
    "corresponding to a height of 185 cm?  \n",
    " d. We know that 5% of the dataset has heights below a certain value. What is\n",
    "the approximate height corresponding to this threshold?  \n",
    " e. Calculate the coefficient of variation (CV) for the dataset.  \n",
    " f. Calculate the skewness of the dataset and interpret the result.**\n",
    " \n",
    " \n",
    "- Ans : \n",
    "Given data : $\\mu$ = 170, $N$ = 1000, $\\sigma$ = 10 \n",
    "\n",
    "a) Population with average height 160 cm to 180 cm comes under 1 $\\sigma$ deviation. Hence, 68.27% of individuals will be inside this band.  \n",
    "\n",
    "b) $n$ = 100, $\\bar{X}$ = 175.  \n",
    "Let's find the Z score corresponding to this. $Z = \\frac{\\bar{X} - \\mu}{\\frac{\\sigma}{\\sqrt{n}}}$. Plugging all the values we have $Z$ = 5  \n",
    "We know that 99% of the population falls under 3$\\sigma$ from the mean in case of normal distribution. Therefore, in this case, there is less than 1% probability that any sample of people having mean height 175 cm.  \n",
    "\n",
    "c) $\\bar{X}$ = 185. \n",
    "Let's find the Z score. Z = (185 - 170)/(10) = 1.5  \n",
    "\n",
    "d) From the given problem we have probability (P) = 5/100 = 0.05. \n",
    "Looking the Z table we can find the Z score corresponding to this P. So, we have Z = -1.645 \n",
    "Now we need to find $\\bar{X}$. \n",
    "$\\bar{X}$ = 10 * (-1.645) + 170 = 153.55 cm   \n",
    "\n",
    "e) Coeff. of variation is also known as Relative standard deviation. $c_v = \\frac{\\sigma}{\\mu}$. \n",
    "In this case, $c_v$ = 10/170 = 0.058823  \n",
    "\n",
    "f) The basic assumption of this problem is, the distribution is normal. In case of normal distribution mean = median = mode. So, in this case skewness is zero. "
   ]
  },
  {
   "cell_type": "markdown",
   "id": "38cf7d71",
   "metadata": {},
   "source": [
    "### Q-3. \n",
    "\n",
    "**Consider the ‘Blood Pressure Before’ and ‘Blood Pressure After’ columns from the data and calculate the following https://drive.google.com/file/d/1mCjtYHiX--mMUjicuaP2gH3k-SnFxt8Y/view?usp=share_**\n",
    "\n",
    "**a. Measure the dispersion in both and interpret the results.  \n",
    "b. Calculate mean and 5% confidence interval and plot it in a graph.  \n",
    "c. Calculate the Mean absolute deviation and Standard deviation and interpret the results.  \n",
    "d. Calculate the correlation coefficient and check the significance of it at 1% level of significance.**  "
   ]
  },
  {
   "cell_type": "code",
   "execution_count": 1,
   "id": "5f741de0",
   "metadata": {},
   "outputs": [],
   "source": [
    "import numpy as np \n",
    "import pandas as pd \n"
   ]
  },
  {
   "cell_type": "code",
   "execution_count": 2,
   "id": "e57a2ad3",
   "metadata": {},
   "outputs": [],
   "source": [
    "df = pd.read_csv('bpdata.csv')"
   ]
  },
  {
   "cell_type": "code",
   "execution_count": 3,
   "id": "a42418b3",
   "metadata": {},
   "outputs": [
    {
     "data": {
      "text/html": [
       "<div>\n",
       "<style scoped>\n",
       "    .dataframe tbody tr th:only-of-type {\n",
       "        vertical-align: middle;\n",
       "    }\n",
       "\n",
       "    .dataframe tbody tr th {\n",
       "        vertical-align: top;\n",
       "    }\n",
       "\n",
       "    .dataframe thead th {\n",
       "        text-align: right;\n",
       "    }\n",
       "</style>\n",
       "<table border=\"1\" class=\"dataframe\">\n",
       "  <thead>\n",
       "    <tr style=\"text-align: right;\">\n",
       "      <th></th>\n",
       "      <th>Patient ID</th>\n",
       "      <th>Blood Pressure Before (mmHg)</th>\n",
       "      <th>Blood Pressure After (mmHg)</th>\n",
       "    </tr>\n",
       "  </thead>\n",
       "  <tbody>\n",
       "    <tr>\n",
       "      <th>count</th>\n",
       "      <td>100.000000</td>\n",
       "      <td>100.000000</td>\n",
       "      <td>100.000000</td>\n",
       "    </tr>\n",
       "    <tr>\n",
       "      <th>mean</th>\n",
       "      <td>50.500000</td>\n",
       "      <td>133.910000</td>\n",
       "      <td>128.360000</td>\n",
       "    </tr>\n",
       "    <tr>\n",
       "      <th>std</th>\n",
       "      <td>29.011492</td>\n",
       "      <td>6.598278</td>\n",
       "      <td>6.888022</td>\n",
       "    </tr>\n",
       "    <tr>\n",
       "      <th>min</th>\n",
       "      <td>1.000000</td>\n",
       "      <td>120.000000</td>\n",
       "      <td>118.000000</td>\n",
       "    </tr>\n",
       "    <tr>\n",
       "      <th>25%</th>\n",
       "      <td>25.750000</td>\n",
       "      <td>128.000000</td>\n",
       "      <td>123.000000</td>\n",
       "    </tr>\n",
       "    <tr>\n",
       "      <th>50%</th>\n",
       "      <td>50.500000</td>\n",
       "      <td>135.000000</td>\n",
       "      <td>128.000000</td>\n",
       "    </tr>\n",
       "    <tr>\n",
       "      <th>75%</th>\n",
       "      <td>75.250000</td>\n",
       "      <td>139.250000</td>\n",
       "      <td>135.000000</td>\n",
       "    </tr>\n",
       "    <tr>\n",
       "      <th>max</th>\n",
       "      <td>100.000000</td>\n",
       "      <td>148.000000</td>\n",
       "      <td>141.000000</td>\n",
       "    </tr>\n",
       "  </tbody>\n",
       "</table>\n",
       "</div>"
      ],
      "text/plain": [
       "       Patient ID   Blood Pressure Before (mmHg)   Blood Pressure After (mmHg)\n",
       "count  100.000000                     100.000000                    100.000000\n",
       "mean    50.500000                     133.910000                    128.360000\n",
       "std     29.011492                       6.598278                      6.888022\n",
       "min      1.000000                     120.000000                    118.000000\n",
       "25%     25.750000                     128.000000                    123.000000\n",
       "50%     50.500000                     135.000000                    128.000000\n",
       "75%     75.250000                     139.250000                    135.000000\n",
       "max    100.000000                     148.000000                    141.000000"
      ]
     },
     "execution_count": 3,
     "metadata": {},
     "output_type": "execute_result"
    }
   ],
   "source": [
    "df.describe()"
   ]
  },
  {
   "cell_type": "markdown",
   "id": "14af2759",
   "metadata": {},
   "source": [
    "a. Mean dispersion for 'Blood Pressure Before' is 6.6 and for 'Blood Pressure Afer' is 6.8. The dispersion is a bit more for the 'Blood Pressure After' data.  "
   ]
  },
  {
   "cell_type": "markdown",
   "id": "30702302",
   "metadata": {},
   "source": [
    "c. "
   ]
  },
  {
   "cell_type": "code",
   "execution_count": 4,
   "id": "b6bcc749",
   "metadata": {},
   "outputs": [
    {
     "name": "stdout",
     "output_type": "stream",
     "text": [
      "BP before :  6.598278012275075    5.7118\n",
      "BP after :  6.8880221025232276   5.9\n"
     ]
    }
   ],
   "source": [
    "print('BP before : ', df[' Blood Pressure Before (mmHg)'].std(), '  ',  df[' Blood Pressure Before (mmHg)'].mad())\n",
    "print('BP after : ', df[' Blood Pressure After (mmHg)'].std(), ' ',  df[' Blood Pressure After (mmHg)'].mad())"
   ]
  },
  {
   "cell_type": "markdown",
   "id": "68e80ebb",
   "metadata": {},
   "source": [
    "By looking at the values for Mean Absolute deviation and standard deviation, we can say that as these values are nearer, so no outliers in the data. Also, MAD <= STD, which can also be observed from the results.  "
   ]
  },
  {
   "cell_type": "markdown",
   "id": "16056ccc",
   "metadata": {},
   "source": [
    "d. "
   ]
  },
  {
   "cell_type": "code",
   "execution_count": 5,
   "id": "32cf1e41",
   "metadata": {},
   "outputs": [],
   "source": [
    "df1 = df.copy()\n",
    "df1.drop(labels = ['Patient ID'], inplace = True, axis = 1)"
   ]
  },
  {
   "cell_type": "code",
   "execution_count": 6,
   "id": "68fee7e2",
   "metadata": {},
   "outputs": [
    {
     "data": {
      "text/html": [
       "<div>\n",
       "<style scoped>\n",
       "    .dataframe tbody tr th:only-of-type {\n",
       "        vertical-align: middle;\n",
       "    }\n",
       "\n",
       "    .dataframe tbody tr th {\n",
       "        vertical-align: top;\n",
       "    }\n",
       "\n",
       "    .dataframe thead th {\n",
       "        text-align: right;\n",
       "    }\n",
       "</style>\n",
       "<table border=\"1\" class=\"dataframe\">\n",
       "  <thead>\n",
       "    <tr style=\"text-align: right;\">\n",
       "      <th></th>\n",
       "      <th>Blood Pressure Before (mmHg)</th>\n",
       "      <th>Blood Pressure After (mmHg)</th>\n",
       "    </tr>\n",
       "  </thead>\n",
       "  <tbody>\n",
       "    <tr>\n",
       "      <th>Blood Pressure Before (mmHg)</th>\n",
       "      <td>1.000000</td>\n",
       "      <td>0.977949</td>\n",
       "    </tr>\n",
       "    <tr>\n",
       "      <th>Blood Pressure After (mmHg)</th>\n",
       "      <td>0.977949</td>\n",
       "      <td>1.000000</td>\n",
       "    </tr>\n",
       "  </tbody>\n",
       "</table>\n",
       "</div>"
      ],
      "text/plain": [
       "                                Blood Pressure Before (mmHg)  \\\n",
       " Blood Pressure Before (mmHg)                       1.000000   \n",
       " Blood Pressure After (mmHg)                        0.977949   \n",
       "\n",
       "                                Blood Pressure After (mmHg)  \n",
       " Blood Pressure Before (mmHg)                      0.977949  \n",
       " Blood Pressure After (mmHg)                       1.000000  "
      ]
     },
     "execution_count": 6,
     "metadata": {},
     "output_type": "execute_result"
    }
   ],
   "source": [
    "df1.corr()"
   ]
  },
  {
   "cell_type": "markdown",
   "id": "7a51f225",
   "metadata": {},
   "source": [
    "The correlation coeff is = 0.977949. i.e. these two features are positively are highly correlated. "
   ]
  },
  {
   "cell_type": "code",
   "execution_count": null,
   "id": "5541fd19",
   "metadata": {},
   "outputs": [],
   "source": []
  },
  {
   "cell_type": "markdown",
   "id": "92c88fec",
   "metadata": {},
   "source": [
    "### Q-4. \n",
    "\n",
    "**A group of 20 friends decide to play a game in which they each write a number\n",
    "between 1 and 20 on a slip of paper and put it into a hat. They then draw one slip of paper\n",
    "at random. What is the probability that the number on the slip of paper is a perfect square\n",
    "(i.e., 1, 4, 9, or 16)?**\n",
    "\n",
    "\n",
    "- Ans : Sample space = 4. Since, we can have perfect square numbers from 1 to 20 - 1, 4, 9, 16. \n",
    "\n",
    "  Hence, Probability = 4/20 = 1/5 "
   ]
  },
  {
   "cell_type": "markdown",
   "id": "5e297bca",
   "metadata": {},
   "source": [
    "### Q-5. \n",
    "\n",
    "\n",
    "**A certain city has two taxi companies: Company A has 80% of the taxis and Company B has 20% of the taxis. Company A's taxis have a 95% success rate for picking up passengers on time, while Company B's taxis have a 90% success rate. If a randomly selected taxi is late, what is the probability that it belongs to Company A?**\n",
    "\n",
    "\n",
    "Ans : Lets P(A) be the probability of finding taxi A and P(B) be the probability of finding taxi B.   \n",
    "\n",
    "Now, \n",
    "\n",
    "as per the problem $P(A)$ = 80/100 and $P(B)$ = 20/100\n",
    "\n",
    "probability that taxi A will be late : $P_L(A)$ = (80/100) * (5/100)  \n",
    "probability that taxi B will be late : $P_L(B)$ = (20/100) * (10/100)  \n",
    "\n",
    "Hence, probability that if a taxi is late, that belongs to taxi A = $P_L(A)$/($P_L(A)$ + $P_L(B)$) = 400/(400+200) = 2/3\n",
    "\n",
    "\n"
   ]
  },
  {
   "cell_type": "markdown",
   "id": "ff3b89ce",
   "metadata": {},
   "source": [
    "### Q-6. \n",
    "\n",
    "**A pharmaceutical company is developing a drug that is supposed to reduce blood\n",
    "pressure. They conduct a clinical trial with 100 patients and record their blood\n",
    "pressure before and after taking the drug. The company wants to know if the change\n",
    "in blood pressure follows a normal distribution.\n",
    "https://drive.google.com/file/d/1mCjtYHiX--mMUjicuaP2gH3k-SnFxt8Y/view?usp=share_**"
   ]
  },
  {
   "cell_type": "code",
   "execution_count": 7,
   "id": "eff4b1e0",
   "metadata": {},
   "outputs": [],
   "source": [
    "import numpy as np \n",
    "import pandas as pd \n",
    "import seaborn as sns \n",
    "import matplotlib.pyplot as plt \n",
    "%matplotlib inline"
   ]
  },
  {
   "cell_type": "code",
   "execution_count": 8,
   "id": "89c5d2bd",
   "metadata": {},
   "outputs": [
    {
     "data": {
      "text/html": [
       "<div>\n",
       "<style scoped>\n",
       "    .dataframe tbody tr th:only-of-type {\n",
       "        vertical-align: middle;\n",
       "    }\n",
       "\n",
       "    .dataframe tbody tr th {\n",
       "        vertical-align: top;\n",
       "    }\n",
       "\n",
       "    .dataframe thead th {\n",
       "        text-align: right;\n",
       "    }\n",
       "</style>\n",
       "<table border=\"1\" class=\"dataframe\">\n",
       "  <thead>\n",
       "    <tr style=\"text-align: right;\">\n",
       "      <th></th>\n",
       "      <th>Patient ID</th>\n",
       "      <th>Blood Pressure Before (mmHg)</th>\n",
       "      <th>Blood Pressure After (mmHg)</th>\n",
       "    </tr>\n",
       "  </thead>\n",
       "  <tbody>\n",
       "    <tr>\n",
       "      <th>0</th>\n",
       "      <td>1</td>\n",
       "      <td>130</td>\n",
       "      <td>120</td>\n",
       "    </tr>\n",
       "    <tr>\n",
       "      <th>1</th>\n",
       "      <td>2</td>\n",
       "      <td>142</td>\n",
       "      <td>135</td>\n",
       "    </tr>\n",
       "    <tr>\n",
       "      <th>2</th>\n",
       "      <td>3</td>\n",
       "      <td>120</td>\n",
       "      <td>118</td>\n",
       "    </tr>\n",
       "    <tr>\n",
       "      <th>3</th>\n",
       "      <td>4</td>\n",
       "      <td>135</td>\n",
       "      <td>127</td>\n",
       "    </tr>\n",
       "    <tr>\n",
       "      <th>4</th>\n",
       "      <td>5</td>\n",
       "      <td>148</td>\n",
       "      <td>140</td>\n",
       "    </tr>\n",
       "  </tbody>\n",
       "</table>\n",
       "</div>"
      ],
      "text/plain": [
       "   Patient ID   Blood Pressure Before (mmHg)   Blood Pressure After (mmHg)\n",
       "0           1                            130                           120\n",
       "1           2                            142                           135\n",
       "2           3                            120                           118\n",
       "3           4                            135                           127\n",
       "4           5                            148                           140"
      ]
     },
     "execution_count": 8,
     "metadata": {},
     "output_type": "execute_result"
    }
   ],
   "source": [
    "bpdf = pd.read_csv('bpdata.csv')\n",
    "bpdf.head()"
   ]
  },
  {
   "cell_type": "code",
   "execution_count": 9,
   "id": "e51835fc",
   "metadata": {},
   "outputs": [
    {
     "data": {
      "text/plain": [
       "(100, 3)"
      ]
     },
     "execution_count": 9,
     "metadata": {},
     "output_type": "execute_result"
    }
   ],
   "source": [
    "bpdf.shape"
   ]
  },
  {
   "cell_type": "code",
   "execution_count": 10,
   "id": "01ba5a5d",
   "metadata": {},
   "outputs": [
    {
     "data": {
      "text/plain": [
       "Index(['Patient ID', ' Blood Pressure Before (mmHg)',\n",
       "       ' Blood Pressure After (mmHg)'],\n",
       "      dtype='object')"
      ]
     },
     "execution_count": 10,
     "metadata": {},
     "output_type": "execute_result"
    }
   ],
   "source": [
    "bpdf.columns"
   ]
  },
  {
   "cell_type": "code",
   "execution_count": 11,
   "id": "41943299",
   "metadata": {},
   "outputs": [
    {
     "name": "stdout",
     "output_type": "stream",
     "text": [
      "Mean - Before : 133.91\n",
      "Standard Deviation - Before : 6.598278012275075\n",
      "Mean - After : 128.36\n",
      "Standard Deviation - Before : 6.8880221025232276\n"
     ]
    }
   ],
   "source": [
    "print('Mean - Before :', bpdf[' Blood Pressure Before (mmHg)'].mean())\n",
    "print('Standard Deviation - Before :', bpdf[' Blood Pressure Before (mmHg)'].std())\n",
    "\n",
    "print('Mean - After :', bpdf[' Blood Pressure After (mmHg)'].mean())\n",
    "print('Standard Deviation - Before :', bpdf[' Blood Pressure After (mmHg)'].std())"
   ]
  },
  {
   "cell_type": "code",
   "execution_count": 12,
   "id": "f8903c18",
   "metadata": {},
   "outputs": [
    {
     "data": {
      "text/plain": [
       "<seaborn.axisgrid.FacetGrid at 0x7f557b342700>"
      ]
     },
     "execution_count": 12,
     "metadata": {},
     "output_type": "execute_result"
    },
    {
     "data": {
      "image/png": "[encoded data removed]",
      "text/plain": [
       "<Figure size 360x360 with 1 Axes>"
      ]
     },
     "metadata": {
      "needs_background": "light"
     },
     "output_type": "display_data"
    },
    {
     "data": {
      "image/png": "[encoded data removed]",
      "text/plain": [
       "<Figure size 360x360 with 1 Axes>"
      ]
     },
     "metadata": {
      "needs_background": "light"
     },
     "output_type": "display_data"
    }
   ],
   "source": [
    "sns.displot(bpdf[' Blood Pressure Before (mmHg)'], kind='kde')\n",
    "sns.displot(bpdf[' Blood Pressure After (mmHg)'], kind = 'kde')"
   ]
  },
  {
   "cell_type": "code",
   "execution_count": 13,
   "id": "9e582e6c",
   "metadata": {},
   "outputs": [],
   "source": [
    "from statsmodels.graphics.gofplots import qqplot "
   ]
  },
  {
   "cell_type": "code",
   "execution_count": 14,
   "id": "edb9102b",
   "metadata": {},
   "outputs": [
    {
     "data": {
      "image/png": "[encoded data removed]",
      "text/plain": [
       "<Figure size 432x288 with 1 Axes>"
      ]
     },
     "metadata": {
      "needs_background": "light"
     },
     "output_type": "display_data"
    },
    {
     "data": {
      "image/png": "[encoded data removed]",
      "text/plain": [
       "<Figure size 432x288 with 1 Axes>"
      ]
     },
     "metadata": {
      "needs_background": "light"
     },
     "output_type": "display_data"
    }
   ],
   "source": [
    "qqplot(bpdf[' Blood Pressure Before (mmHg)'], line = 's');\n",
    "qqplot(bpdf[' Blood Pressure After (mmHg)'], line = 's');\n"
   ]
  },
  {
   "cell_type": "markdown",
   "id": "e32a9e86",
   "metadata": {},
   "source": [
    "Just looking at the above plots, we can conclude that the data is not normal. But coming to the conclusion in this way is not enough. So, we will perform some statistical tests for normality and then we draw conclusion. \n",
    "For this we will try Shapiro-Wilk Test,  Kolmogorov-Smirnov Test and D’Agostino’s $K^2$ Test.\n",
    "\n",
    "\n"
   ]
  },
  {
   "cell_type": "markdown",
   "id": "f606fcdb",
   "metadata": {},
   "source": [
    "### Shapiro-Wilk Test"
   ]
  },
  {
   "cell_type": "code",
   "execution_count": 15,
   "id": "79d92da5",
   "metadata": {},
   "outputs": [],
   "source": [
    "from scipy.stats import shapiro"
   ]
  },
  {
   "cell_type": "code",
   "execution_count": 16,
   "id": "4ecc4415",
   "metadata": {},
   "outputs": [
    {
     "name": "stdout",
     "output_type": "stream",
     "text": [
      "Statistics=0.957, p=0.003\n",
      "Sample does not look Gaussian (reject H0)\n"
     ]
    }
   ],
   "source": [
    "stat, p = shapiro(bpdf[' Blood Pressure Before (mmHg)'])\n",
    "print('Statistics=%.3f, p=%.3f' % (stat, p))\n",
    "# interpret\n",
    "alpha = 0.05\n",
    "if p > alpha:\n",
    "    print('Sample looks Gaussian (fail to reject H0)')\n",
    "else:\n",
    "    print('Sample does not look Gaussian (reject H0)')"
   ]
  },
  {
   "cell_type": "code",
   "execution_count": 17,
   "id": "08823a5b",
   "metadata": {},
   "outputs": [
    {
     "name": "stdout",
     "output_type": "stream",
     "text": [
      "Statistics=0.940, p=0.000\n",
      "Sample does not look Gaussian (reject H0)\n"
     ]
    }
   ],
   "source": [
    "stat, p = shapiro(bpdf[' Blood Pressure After (mmHg)'])\n",
    "print('Statistics=%.3f, p=%.3f' % (stat, p))\n",
    "# interpret\n",
    "alpha = 0.05\n",
    "if p > alpha:\n",
    "    print('Sample looks Gaussian (fail to reject H0)')\n",
    "else:\n",
    "    print('Sample does not look Gaussian (reject H0)')"
   ]
  },
  {
   "cell_type": "markdown",
   "id": "9d6a5f0b",
   "metadata": {},
   "source": [
    "### D’Agostino’s $K^2$ Test"
   ]
  },
  {
   "cell_type": "code",
   "execution_count": 18,
   "id": "c9eda88d",
   "metadata": {},
   "outputs": [],
   "source": [
    "from scipy.stats import normaltest"
   ]
  },
  {
   "cell_type": "code",
   "execution_count": 19,
   "id": "bda88c8f",
   "metadata": {},
   "outputs": [
    {
     "name": "stdout",
     "output_type": "stream",
     "text": [
      "Statistics=15.998, p=0.000\n",
      "Sample does not look Gaussian (reject H0)\n"
     ]
    }
   ],
   "source": [
    "stat, p = normaltest(bpdf[' Blood Pressure Before (mmHg)'])\n",
    "print('Statistics=%.3f, p=%.3f' % (stat, p))\n",
    "# interpret\n",
    "alpha = 0.05\n",
    "if p > alpha:\n",
    "    print('Sample looks Gaussian (fail to reject H0)')\n",
    "else:\n",
    "    print('Sample does not look Gaussian (reject H0)')"
   ]
  },
  {
   "cell_type": "code",
   "execution_count": 20,
   "id": "97024530",
   "metadata": {},
   "outputs": [
    {
     "name": "stdout",
     "output_type": "stream",
     "text": [
      "Statistics=25.832, p=0.000\n",
      "Sample does not look Gaussian (reject H0)\n"
     ]
    }
   ],
   "source": [
    "stat, p = normaltest(bpdf[' Blood Pressure After (mmHg)'])\n",
    "print('Statistics=%.3f, p=%.3f' % (stat, p))\n",
    "# interpret\n",
    "alpha = 0.05\n",
    "if p > alpha:\n",
    "    print('Sample looks Gaussian (fail to reject H0)')\n",
    "else:\n",
    "    print('Sample does not look Gaussian (reject H0)')"
   ]
  },
  {
   "cell_type": "markdown",
   "id": "7c6b6265",
   "metadata": {},
   "source": [
    "### Kolmogorov-Smirnov test "
   ]
  },
  {
   "cell_type": "code",
   "execution_count": 21,
   "id": "e9ca3a89",
   "metadata": {},
   "outputs": [],
   "source": [
    "from scipy.stats import kstest"
   ]
  },
  {
   "cell_type": "code",
   "execution_count": 22,
   "id": "63faf55f",
   "metadata": {},
   "outputs": [
    {
     "name": "stdout",
     "output_type": "stream",
     "text": [
      "Statistics=1.000, p=0.000\n",
      "Sample does not look Gaussian (reject H0)\n"
     ]
    }
   ],
   "source": [
    "stat, p = kstest(bpdf[' Blood Pressure Before (mmHg)'], 'norm')\n",
    "print('Statistics=%.3f, p=%.3f' % (stat, p))\n",
    "# interpret\n",
    "alpha = 0.05\n",
    "if p > alpha:\n",
    "    print('Sample looks Gaussian (fail to reject H0)')\n",
    "else:\n",
    "    print('Sample does not look Gaussian (reject H0)')"
   ]
  },
  {
   "cell_type": "code",
   "execution_count": 23,
   "id": "5015405e",
   "metadata": {},
   "outputs": [
    {
     "name": "stdout",
     "output_type": "stream",
     "text": [
      "Statistics=1.000, p=0.000\n",
      "Sample does not look Gaussian (reject H0)\n"
     ]
    }
   ],
   "source": [
    "stat, p = kstest(bpdf[' Blood Pressure After (mmHg)'], 'norm')\n",
    "print('Statistics=%.3f, p=%.3f' % (stat, p))\n",
    "# interpret\n",
    "alpha = 0.05\n",
    "if p > alpha:\n",
    "    print('Sample looks Gaussian (fail to reject H0)')\n",
    "else:\n",
    "    print('Sample does not look Gaussian (reject H0)')"
   ]
  },
  {
   "cell_type": "markdown",
   "id": "1b04aa0b",
   "metadata": {},
   "source": [
    "####  From all the above tests we can conclude that the given blood pressure data is not normal. "
   ]
  },
  {
   "cell_type": "markdown",
   "id": "df7212bc",
   "metadata": {},
   "source": [
    "### Q-7. \n",
    "\n",
    "**The equations of two lines of regression, obtained in a correlation analysis\n",
    "between variables X and Y are as follows:**\n",
    "\n",
    "**and  2X + 3Y − 8 = 0 2Y + X − 5 = 0 The variance of X = 4 Find the**   \n",
    "\n",
    "**a. Variance of Y  \n",
    "b. Coefficient of determination of C and Y   \n",
    "c. Standard error of estimate of X on Y and of Y on X. **  \n",
    "\n",
    "\n",
    "- Ans : From the above equations we can write : \n",
    "\n",
    "Y = (5/2) - (X/2) = 2.5 - 0.5 X \n",
    "\n",
    "and \n",
    "\n",
    "X = (8/2) - (3Y/2) = 4 - 1.5 Y  \n",
    "\n",
    "We can write the co-efficients as :  $b_{yx}$ = - 0.5 and $b_{xy}$ = - 1.5   \n",
    "\n",
    "Coeff of determination : $r = \\pm \\sqrt{b_{yx} . b_{xy}}$ = $\\pm$ 0.866 \n",
    "\n",
    "As $b_{yx}$ < 0 and $b_{xy}$ < 0, so r = - 0.866  \n",
    "\n",
    "Given, variance of X = 4. i.e. $\\sigma_x^2$ = 4 $\\rightarrow$ $\\sigma_x$ = $\\pm$ 2   \n",
    "\n",
    "So, $b_{xy} =  r \\frac{\\sigma_x}{\\sigma_y}$ $\\rightarrow$ $\\sigma_y$ = 1.154 $\\rightarrow$ $\\sigma_y^2$ = 1.331  \n",
    "\n",
    "$\\sigma_{xy} = \\sigma_x \\sqrt{1 - r^2}$ = $\\pm$ 1  \n",
    "\n",
    "$\\sigma_{yx} = \\sigma_y \\sqrt{1 - r^2}$ = $\\pm$ 0.577"
   ]
  },
  {
   "cell_type": "markdown",
   "id": "a4213c03",
   "metadata": {},
   "source": [
    "### Q-8. \n",
    "\n",
    "**The anxiety levels of 10 participants were measured before and after a new therapy.\n",
    "The scores are not normally distributed. Use the Wilcoxon signed-rank test to test whether\n",
    "the therapy had a significant effect on anxiety levels. The data is given below: Participant\n",
    "Before therapy After therapy Difference**\n",
    "\n",
    "|Participant|Before therapy|AfterTherapy|difference|\n",
    "|----       |          ----|--       ---|----      |\n",
    "|1 |10| 7|-3|\n",
    "|2|8|6|-2|\n",
    "|3|12|10|-2|\n",
    "|4|15|12|-3|\n",
    "|5|6|5|-1|\n",
    "|6|9|8|-1|\n",
    "|7|11|9|-2|\n",
    "|8|7|6|-1|\n",
    "|9|14|12|-2|\n",
    "|10|10|8|-2|\n",
    "\n"
   ]
  },
  {
   "cell_type": "code",
   "execution_count": 24,
   "id": "6d914818",
   "metadata": {},
   "outputs": [
    {
     "data": {
      "text/plain": [
       "WilcoxonResult(statistic=0.0, pvalue=0.001953125)"
      ]
     },
     "execution_count": 24,
     "metadata": {},
     "output_type": "execute_result"
    }
   ],
   "source": [
    "from scipy import stats\n",
    "\n",
    "\n",
    "\n",
    "gr1 = [10,8,12,15,6,9,11,7,14,10]\n",
    "gr2 = [7,6,10,12,5,8,9,6,12,8]\n",
    "\n",
    "\n",
    "stats.wilcoxon(gr1, gr2, mode='exact', alternative='two-sided')\n",
    "\n"
   ]
  },
  {
   "cell_type": "markdown",
   "id": "14ef0d83",
   "metadata": {},
   "source": [
    "In this case : \n",
    "H0 : There is no difference before and after therapy\n",
    "H1 : Alternate Hypothesis, i.e. There is significant difference before and after therapy. \n",
    "\n",
    "Now, as the p-value of the Wilcoxon Statistics  = 0.001953125 which is less that p = 0.05, Hence we can reject the null hypothesis. \n",
    "\n",
    "Conclusion : The therapy has a significant effect on anxiety levels. "
   ]
  },
  {
   "cell_type": "markdown",
   "id": "53878299",
   "metadata": {},
   "source": [
    "### Q-9. \n",
    "\n",
    "**Given the score of students in multiple exams. Test the hypothesis that the mean scores of all the students are the same. If not, name the student with the highest score.**\n",
    "\n",
    "\n",
    "|Name |Exam1|Exam2|Final Exam|\n",
    "|-------|------|-----|------|\n",
    "| Karan   |  85   | 90     |   92       |  \n",
    "| Deepa   |  70   | 80     |   85       |  \n",
    "| Karthik |  90   | 85     |   88       |  \n",
    "| Chandan |  75   | 70     |   75       |  \n",
    "| Jeevan  |  95   | 92     |   96       |  \n",
    "\n",
    "\n",
    "\n",
    "\n",
    "- Ans : In this case we need to check if the means scores of all the students are same or not. We will check this using One-way Anova test. "
   ]
  },
  {
   "cell_type": "code",
   "execution_count": 25,
   "id": "ca90dd15",
   "metadata": {},
   "outputs": [],
   "source": [
    "from scipy.stats import f_oneway"
   ]
  },
  {
   "cell_type": "code",
   "execution_count": 26,
   "id": "a682814e",
   "metadata": {},
   "outputs": [
    {
     "data": {
      "text/plain": [
       "F_onewayResult(statistic=12.025830258302586, pvalue=0.0007760917135044952)"
      ]
     },
     "execution_count": 26,
     "metadata": {},
     "output_type": "execute_result"
    }
   ],
   "source": [
    "s1 = [85, 90, 92]\n",
    "s2 = [70, 80, 85]\n",
    "s3 = [90, 85, 88]\n",
    "s4 = [75, 70, 75]\n",
    "s5 = [95, 92, 96]\n",
    "\n",
    "f_oneway(s1, s2, s3, s4, s5)"
   ]
  },
  {
   "cell_type": "markdown",
   "id": "ea4916d1",
   "metadata": {},
   "source": [
    "Here the test result shows that p value of the test is very very less than 0.05. So, we are rejecting the null Hypothesis (i.e. the mean scores are equal).  Hence, the mean sores are not same for all the students. Now we need to identify where is the difference. To find it, we use the most commonly used post hoc tests is Tukey’s Test, which allows us to make pairwise comparisons between the means of each group while controlling for the family-wise error rate."
   ]
  },
  {
   "cell_type": "code",
   "execution_count": 27,
   "id": "44671846",
   "metadata": {},
   "outputs": [],
   "source": [
    "from statsmodels.stats.multicomp import pairwise_tukeyhsd, MultiComparison  \n",
    " "
   ]
  },
  {
   "cell_type": "code",
   "execution_count": 28,
   "id": "66d44888",
   "metadata": {},
   "outputs": [
    {
     "name": "stdout",
     "output_type": "stream",
     "text": [
      " Multiple Comparison of Means - Tukey HSD, FWER=0.05 \n",
      "=====================================================\n",
      "group1 group2 meandiff p-adj   lower    upper  reject\n",
      "-----------------------------------------------------\n",
      "    s1     s2 -10.6667 0.0701 -22.0907  0.7574  False\n",
      "    s1     s3  -1.3333    0.9 -12.7574 10.0907  False\n",
      "    s1     s4 -15.6667 0.0077 -27.0907 -4.2426   True\n",
      "    s1     s5   5.3333 0.5596  -6.0907 16.7574  False\n",
      "    s2     s3   9.3333 0.1257  -2.0907 20.7574  False\n",
      "    s2     s4     -5.0 0.6089  -16.424   6.424  False\n",
      "    s2     s5     16.0 0.0067    4.576  27.424   True\n",
      "    s3     s4 -14.3333 0.0137 -25.7574 -2.9093   True\n",
      "    s3     s5   6.6667 0.3671  -4.7574 18.0907  False\n",
      "    s4     s5     21.0  0.001    9.576  32.424   True\n",
      "-----------------------------------------------------\n"
     ]
    }
   ],
   "source": [
    "df = pd.DataFrame({'score': [85, 90, 92,\n",
    "                             70, 80, 85, \n",
    "                             90, 85, 88, \n",
    "                             75, 70, 75, \n",
    "                             95, 92, 96],\n",
    "                   'group': np.repeat(['s1', 's2', 's3', 's4', 's5'], repeats=3)}) \n",
    "\n",
    "# perform Tukey's test\n",
    "tukey = pairwise_tukeyhsd(endog=df['score'],\n",
    "                          groups=df['group'],\n",
    "                          alpha=0.05)\n",
    "\n",
    "#display results\n",
    "print(tukey)"
   ]
  },
  {
   "cell_type": "code",
   "execution_count": null,
   "id": "debfbb6a",
   "metadata": {},
   "outputs": [],
   "source": []
  },
  {
   "cell_type": "markdown",
   "id": "634cc71b",
   "metadata": {},
   "source": [
    "### Q-10. \n",
    "\n",
    "\n",
    "**A factory produces light bulbs, and the probability of a bulb being defective is 0.05.  The factory produces a large batch of 500 light bulbs.   \n",
    "a. What is the probability that exactly 20 bulbs are defective?   \n",
    "b. What is the probability that at least 10 bulbs are defective?  \n",
    "c. What is the probability that at max 15 bulbs are defective?   \n",
    "d. On average, how many defective bulbs would you expect in a batch of 500?**  \n",
    "\n",
    "\n",
    "- Ans : This problem is of Binomial type. prob (p) = 0.05, n = 500"
   ]
  },
  {
   "cell_type": "code",
   "execution_count": 29,
   "id": "320dbd93",
   "metadata": {},
   "outputs": [
    {
     "name": "stdout",
     "output_type": "stream",
     "text": [
      "Probability that exactly 20 bulbs are defective : 0.051616192536642215\n",
      "Probability that at least 10 bulbs are defective : 0.9998316463654902\n",
      "Probability that at max 15 bulbs are defective : 0.01985837716299813\n",
      "On average, number of defective bulbs expected : 25.0\n"
     ]
    }
   ],
   "source": [
    "from scipy import stats\n",
    "\n",
    "p = 0.05 \n",
    "n = 500\n",
    "x1 = 20\n",
    "x2 = 10\n",
    "x3 = 15\n",
    "\n",
    "\n",
    "print(f'Probability that exactly {x1} bulbs are defective : {stats.binom.pmf(x1, n, p)}')\n",
    "\n",
    "print(f'Probability that at least {x2} bulbs are defective : {1 - stats.binom.cdf(x2 - 1, n, p)}')\n",
    "\n",
    "print(f'Probability that at max {x3} bulbs are defective : {stats.binom.cdf(x3, n, p)}') \n",
    "\n",
    "print(f'On average, number of defective bulbs expected : {n*p}')"
   ]
  },
  {
   "cell_type": "markdown",
   "id": "5fc3f5bf",
   "metadata": {},
   "source": [
    "### Q-11. \n",
    "\n",
    "**Given the data of a feature contributing to different classeshttps://drive.google.com/file/d/1mCjtYHiX--mMUjicuaP2gH3k-SnFxt8Y/view?usp=share_**     \n",
    "\n",
    "**a. Check whether the distribution of all the classes are the same or not.  \n",
    "b. Check for the equality of variance.  \n",
    "c. Which amount LDA and QDA would perform better on this data for classification and why.  \n",
    "d. Check the equality of mean for between all the classes.**"
   ]
  },
  {
   "cell_type": "markdown",
   "id": "157c351a",
   "metadata": {},
   "source": [
    "a. "
   ]
  },
  {
   "cell_type": "code",
   "execution_count": 30,
   "id": "4ffa906f",
   "metadata": {},
   "outputs": [
    {
     "data": {
      "text/html": [
       "<div>\n",
       "<style scoped>\n",
       "    .dataframe tbody tr th:only-of-type {\n",
       "        vertical-align: middle;\n",
       "    }\n",
       "\n",
       "    .dataframe tbody tr th {\n",
       "        vertical-align: top;\n",
       "    }\n",
       "\n",
       "    .dataframe thead th {\n",
       "        text-align: right;\n",
       "    }\n",
       "</style>\n",
       "<table border=\"1\" class=\"dataframe\">\n",
       "  <thead>\n",
       "    <tr style=\"text-align: right;\">\n",
       "      <th></th>\n",
       "      <th>BP</th>\n",
       "      <th>class</th>\n",
       "    </tr>\n",
       "  </thead>\n",
       "  <tbody>\n",
       "    <tr>\n",
       "      <th>0</th>\n",
       "      <td>120</td>\n",
       "      <td>class 1</td>\n",
       "    </tr>\n",
       "    <tr>\n",
       "      <th>1</th>\n",
       "      <td>135</td>\n",
       "      <td>class 1</td>\n",
       "    </tr>\n",
       "    <tr>\n",
       "      <th>2</th>\n",
       "      <td>118</td>\n",
       "      <td>class 1</td>\n",
       "    </tr>\n",
       "    <tr>\n",
       "      <th>3</th>\n",
       "      <td>127</td>\n",
       "      <td>class 1</td>\n",
       "    </tr>\n",
       "    <tr>\n",
       "      <th>4</th>\n",
       "      <td>140</td>\n",
       "      <td>class 1</td>\n",
       "    </tr>\n",
       "  </tbody>\n",
       "</table>\n",
       "</div>"
      ],
      "text/plain": [
       "    BP    class\n",
       "0  120  class 1\n",
       "1  135  class 1\n",
       "2  118  class 1\n",
       "3  127  class 1\n",
       "4  140  class 1"
      ]
     },
     "execution_count": 30,
     "metadata": {},
     "output_type": "execute_result"
    }
   ],
   "source": [
    "#sns.scatterplot(bpdf['Patient ID'], bpdf[' Blood Pressure Before (mmHg)'], color = 'red')\n",
    "#sns.scatterplot(bpdf['Patient ID'], bpdf[' Blood Pressure After (mmHg)'], color = 'blue')\n",
    "\n",
    "\n",
    "d11 = pd.DataFrame(bpdf[' Blood Pressure After (mmHg)'])\n",
    "d11['class'] = 'class 1'\n",
    "d11.head()\n",
    "\n",
    "d22 = pd.DataFrame(bpdf[' Blood Pressure Before (mmHg)'])\n",
    "d22['class'] = 'class 2'\n",
    "d22.head()\n",
    "\n",
    "\n",
    "d11.rename(columns = {' Blood Pressure After (mmHg)': 'BP'}, inplace = True)\n",
    "d22.rename(columns = {' Blood Pressure Before (mmHg)': 'BP'}, inplace = True)\n",
    "\n",
    "\n",
    "dfnal = pd.concat([d11, d22], ignore_index=True, axis=0)\n",
    "\n",
    "dfnal.head()"
   ]
  },
  {
   "cell_type": "code",
   "execution_count": null,
   "id": "86c73459",
   "metadata": {},
   "outputs": [],
   "source": []
  },
  {
   "cell_type": "code",
   "execution_count": 31,
   "id": "6ac04df2",
   "metadata": {},
   "outputs": [
    {
     "data": {
      "image/png": "[encoded data removed]",
      "text/plain": [
       "<Figure size 432x288 with 1 Axes>"
      ]
     },
     "metadata": {
      "needs_background": "light"
     },
     "output_type": "display_data"
    }
   ],
   "source": [
    "#fig, axes = plt.subplots(1,2, figsize = (10,5))\n",
    "sns.histplot(bpdf[' Blood Pressure Before (mmHg)'], kde = True)\n",
    "sns.histplot(bpdf[' Blood Pressure After (mmHg)'], kde = True, color = 'red', alpha = 0.5)\n",
    "plt.show()"
   ]
  },
  {
   "cell_type": "markdown",
   "id": "31de685d",
   "metadata": {},
   "source": [
    "Distributions are not same. "
   ]
  },
  {
   "cell_type": "markdown",
   "id": "5dfa03c3",
   "metadata": {},
   "source": [
    "b. To check the equality of variance, we will perform F-test. "
   ]
  },
  {
   "cell_type": "code",
   "execution_count": 32,
   "id": "193881fb",
   "metadata": {},
   "outputs": [
    {
     "data": {
      "text/plain": [
       "(1.0897524239070668, 0.3348882912293146)"
      ]
     },
     "execution_count": 32,
     "metadata": {},
     "output_type": "execute_result"
    }
   ],
   "source": [
    "from scipy import stats\n",
    "\n",
    "#define F-test function\n",
    "def f_test(x, y):\n",
    "    x = np.array(x)\n",
    "    y = np.array(y)\n",
    "    f = np.var(x, ddof=1)/np.var(y, ddof=1) #calculate F test statistic \n",
    "    dfn = x.size-1 #define degrees of freedom numerator \n",
    "    dfd = y.size-1 #define degrees of freedom denominator \n",
    "    p = 1-stats.f.cdf(f, dfn, dfd) #find p-value of F test statistic \n",
    "    return f, p\n",
    "\n",
    "#perform F-test\n",
    "f_test(bpdf[' Blood Pressure After (mmHg)'], bpdf[' Blood Pressure Before (mmHg)'])"
   ]
  },
  {
   "cell_type": "markdown",
   "id": "f52fbeda",
   "metadata": {},
   "source": [
    "Our null Hypothesis was the variance of given distributions are equal. And the alternative hypothesis was that these variances are not equal. After performing F test, we have F statistic = 1.09, p  = 0.335. As the p value is more than 0.05 we will accept the null hypothesis and reject the alternate hypothesis. "
   ]
  },
  {
   "cell_type": "markdown",
   "id": "830a094a",
   "metadata": {},
   "source": [
    "c.  \n",
    "\n",
    "Linear discriminant Analysis and Quadratic discriminate Analysis are popular traditional classification methods. These two methods assume each class are from multivariate Gaussian distribution and use statistical properties of the data, the variance - covariance and the mean, to establish the classifier. The mainly difference between LDA and QDA is that if we have observed or calculated that each class has similar variance - covariance matrix, we will use LDA to construct a straight line as our classifier;otherwise, if classes have different variance - covariance matrix, we will use QDA to construct a quadratic curve as our classifier."
   ]
  },
  {
   "cell_type": "code",
   "execution_count": 33,
   "id": "0477c381",
   "metadata": {},
   "outputs": [
    {
     "data": {
      "text/html": [
       "<div>\n",
       "<style scoped>\n",
       "    .dataframe tbody tr th:only-of-type {\n",
       "        vertical-align: middle;\n",
       "    }\n",
       "\n",
       "    .dataframe tbody tr th {\n",
       "        vertical-align: top;\n",
       "    }\n",
       "\n",
       "    .dataframe thead th {\n",
       "        text-align: right;\n",
       "    }\n",
       "</style>\n",
       "<table border=\"1\" class=\"dataframe\">\n",
       "  <thead>\n",
       "    <tr style=\"text-align: right;\">\n",
       "      <th></th>\n",
       "      <th>Blood Pressure Before (mmHg)</th>\n",
       "      <th>Blood Pressure After (mmHg)</th>\n",
       "    </tr>\n",
       "  </thead>\n",
       "  <tbody>\n",
       "    <tr>\n",
       "      <th>Blood Pressure Before (mmHg)</th>\n",
       "      <td>43.537273</td>\n",
       "      <td>44.446869</td>\n",
       "    </tr>\n",
       "    <tr>\n",
       "      <th>Blood Pressure After (mmHg)</th>\n",
       "      <td>44.446869</td>\n",
       "      <td>47.444848</td>\n",
       "    </tr>\n",
       "  </tbody>\n",
       "</table>\n",
       "</div>"
      ],
      "text/plain": [
       "                                Blood Pressure Before (mmHg)  \\\n",
       " Blood Pressure Before (mmHg)                      43.537273   \n",
       " Blood Pressure After (mmHg)                       44.446869   \n",
       "\n",
       "                                Blood Pressure After (mmHg)  \n",
       " Blood Pressure Before (mmHg)                     44.446869  \n",
       " Blood Pressure After (mmHg)                      47.444848  "
      ]
     },
     "execution_count": 33,
     "metadata": {},
     "output_type": "execute_result"
    }
   ],
   "source": [
    "d1 = bpdf.copy()\n",
    "d1.drop(labels = 'Patient ID', axis = 1, inplace=True)\n",
    "\n",
    "d1.cov()"
   ]
  },
  {
   "cell_type": "markdown",
   "id": "41213085",
   "metadata": {},
   "source": [
    "We obtain the covariance matrix for the given data. It is seen that $\\sigma_{xx} \\ne \\sigma{yy} \\ne \\sigma{xy}$. So we should use QDA to perform classification analysis."
   ]
  },
  {
   "cell_type": "markdown",
   "id": "04ddf2d8",
   "metadata": {},
   "source": [
    "d.  \n",
    "We need to find if the mean of the distributions of these classes are same. Now, we have shown earlier that this is a non-normal data. And the size for each class is 100. Now to find the equality of mean, we will perform paired t test. "
   ]
  },
  {
   "cell_type": "code",
   "execution_count": 34,
   "id": "5b4cbf2b",
   "metadata": {},
   "outputs": [
    {
     "data": {
      "text/plain": [
       "Ttest_relResult(statistic=38.40500458621546, pvalue=2.817165090364283e-61)"
      ]
     },
     "execution_count": 34,
     "metadata": {},
     "output_type": "execute_result"
    }
   ],
   "source": [
    "from scipy import stats\n",
    "\n",
    "\n",
    "\n",
    "gr1 = bpdf[' Blood Pressure Before (mmHg)']\n",
    "gr2 = bpdf[' Blood Pressure After (mmHg)']\n",
    "\n",
    "\n",
    "stats.ttest_rel(gr1, gr2)\n"
   ]
  },
  {
   "cell_type": "markdown",
   "id": "c1259369",
   "metadata": {},
   "source": [
    "Here, \n",
    "H0 : means of two groups are equal.   \n",
    "H1 : means of two groups are not equal. \n",
    "\n",
    "From the above paired T-test, the test statistic is 38.405 and p value is 2.817 $\\times e^{-61} \\approx 0$. So, we can conclude that the mean of these distribution is not same. This can also be observed from the table below where one group has a mean of 133 and the other has a mean of 128.\n",
    "\n",
    "\n",
    "\n",
    "\n",
    "\n",
    "**Some related blogs**\n",
    "- https://stats.stackexchange.com/questions/9573/t-test-for-non-normal-when-n50 \n",
    "- https://communities.sas.com/t5/Statistical-Procedures/t-test-and-non-normally-distributed-data/td-p/811969 \n",
    "- https://www.graphpad.com/guides/the-ultimate-guide-to-t-tests "
   ]
  },
  {
   "cell_type": "code",
   "execution_count": 35,
   "id": "90ed441a",
   "metadata": {},
   "outputs": [
    {
     "data": {
      "text/html": [
       "<div>\n",
       "<style scoped>\n",
       "    .dataframe tbody tr th:only-of-type {\n",
       "        vertical-align: middle;\n",
       "    }\n",
       "\n",
       "    .dataframe tbody tr th {\n",
       "        vertical-align: top;\n",
       "    }\n",
       "\n",
       "    .dataframe thead th {\n",
       "        text-align: right;\n",
       "    }\n",
       "</style>\n",
       "<table border=\"1\" class=\"dataframe\">\n",
       "  <thead>\n",
       "    <tr style=\"text-align: right;\">\n",
       "      <th></th>\n",
       "      <th>Patient ID</th>\n",
       "      <th>Blood Pressure Before (mmHg)</th>\n",
       "      <th>Blood Pressure After (mmHg)</th>\n",
       "    </tr>\n",
       "  </thead>\n",
       "  <tbody>\n",
       "    <tr>\n",
       "      <th>count</th>\n",
       "      <td>100.000000</td>\n",
       "      <td>100.000000</td>\n",
       "      <td>100.000000</td>\n",
       "    </tr>\n",
       "    <tr>\n",
       "      <th>mean</th>\n",
       "      <td>50.500000</td>\n",
       "      <td>133.910000</td>\n",
       "      <td>128.360000</td>\n",
       "    </tr>\n",
       "    <tr>\n",
       "      <th>std</th>\n",
       "      <td>29.011492</td>\n",
       "      <td>6.598278</td>\n",
       "      <td>6.888022</td>\n",
       "    </tr>\n",
       "    <tr>\n",
       "      <th>min</th>\n",
       "      <td>1.000000</td>\n",
       "      <td>120.000000</td>\n",
       "      <td>118.000000</td>\n",
       "    </tr>\n",
       "    <tr>\n",
       "      <th>25%</th>\n",
       "      <td>25.750000</td>\n",
       "      <td>128.000000</td>\n",
       "      <td>123.000000</td>\n",
       "    </tr>\n",
       "    <tr>\n",
       "      <th>50%</th>\n",
       "      <td>50.500000</td>\n",
       "      <td>135.000000</td>\n",
       "      <td>128.000000</td>\n",
       "    </tr>\n",
       "    <tr>\n",
       "      <th>75%</th>\n",
       "      <td>75.250000</td>\n",
       "      <td>139.250000</td>\n",
       "      <td>135.000000</td>\n",
       "    </tr>\n",
       "    <tr>\n",
       "      <th>max</th>\n",
       "      <td>100.000000</td>\n",
       "      <td>148.000000</td>\n",
       "      <td>141.000000</td>\n",
       "    </tr>\n",
       "  </tbody>\n",
       "</table>\n",
       "</div>"
      ],
      "text/plain": [
       "       Patient ID   Blood Pressure Before (mmHg)   Blood Pressure After (mmHg)\n",
       "count  100.000000                     100.000000                    100.000000\n",
       "mean    50.500000                     133.910000                    128.360000\n",
       "std     29.011492                       6.598278                      6.888022\n",
       "min      1.000000                     120.000000                    118.000000\n",
       "25%     25.750000                     128.000000                    123.000000\n",
       "50%     50.500000                     135.000000                    128.000000\n",
       "75%     75.250000                     139.250000                    135.000000\n",
       "max    100.000000                     148.000000                    141.000000"
      ]
     },
     "execution_count": 35,
     "metadata": {},
     "output_type": "execute_result"
    }
   ],
   "source": [
    "bpdf.describe()"
   ]
  },
  {
   "cell_type": "markdown",
   "id": "925e523b",
   "metadata": {},
   "source": [
    "### Q-12. \n",
    "\n",
    "**A pharmaceutical company develops a new drug and wants to compare its\n",
    "effectiveness against a standard drug for treating a particular condition. They conduct a\n",
    "study with two groups: Group A receives the new drug, and Group B receives the standard\n",
    "drug. The company measures the improvement in a specific symptom for both groups after\n",
    "a 4-week treatment period.** \n",
    "\n",
    "**a. The company collects data from 30 patients in each group and calculates the\n",
    "mean improvement score and the standard deviation of improvement for each\n",
    "group. The mean improvement score for Group A is 2.5 with a standard\n",
    "deviation of 0.8, while the mean improvement score for Group B is 2.2 with a\n",
    "standard deviation of 0.6. Conduct a t-test to determine if there is a significant\n",
    "difference in the mean improvement scores between the two groups. Use a\n",
    "significance level of 0.05.   \n",
    "b. Based on the t-test results, state whether the null hypothesis should be\n",
    "rejected or not. Provide a conclusion in the context of the study.** \n",
    "\n",
    "\n",
    "- Ans :  Given data : \n",
    "\n",
    "    Group A : $n$ = 30, $\\bar{X}$ = 2.5, $s$ = 0.8, Group A : $n$ = 30, $\\bar{X}$ = 2.2, $s$ = 0.6 \n",
    "    \n",
    "    \n",
    "Here we will perform Equal Variance t-test as the two samples have same size. This goes as : \n",
    "\n",
    "$t$ = $\\frac{\\bar{X_1} - \\bar{X_2}}{\\frac{(n_1 -1) \\sigma_1^2 + (n_2 - 1) \\sigma_2^2}{n_1 + n_2 -2} \\sqrt{\\frac{1}{n_1} + \\frac{1}{n_2}}}$   \n",
    "Putting all the values we have : t = 2.3237 \n",
    "\n",
    "Now, for significance level = 0.05, and degree of freedom ($n_1 + n_2 -2$) = 58, from t table we have $t_{theory}$ = 1.672. \n",
    "\n",
    "So t > $t_{theory}$. So, we can reject the null hypothesis. "
   ]
  },
  {
   "cell_type": "code",
   "execution_count": null,
   "id": "31b0c964",
   "metadata": {},
   "outputs": [],
   "source": []
  },
  {
   "cell_type": "code",
   "execution_count": null,
   "id": "b979faa9",
   "metadata": {},
   "outputs": [],
   "source": []
  },
  {
   "cell_type": "code",
   "execution_count": null,
   "id": "d2e2b833",
   "metadata": {},
   "outputs": [],
   "source": []
  },
  {
   "cell_type": "code",
   "execution_count": null,
   "id": "0fda2b05",
   "metadata": {},
   "outputs": [],
   "source": []
  },
  {
   "cell_type": "code",
   "execution_count": null,
   "id": "969714b8",
   "metadata": {},
   "outputs": [],
   "source": []
  }
 ],
 "metadata": {
  "kernelspec": {
   "display_name": "Python 3",
   "language": "python",
   "name": "python3"
  },
  "language_info": {
   "codemirror_mode": {
    "name": "ipython",
    "version": 3
   },
   "file_extension": ".py",
   "mimetype": "text/x-python",
   "name": "python",
   "nbconvert_exporter": "python",
   "pygments_lexer": "ipython3",
   "version": "3.8.8"
  }
 },
 "nbformat": 4,
 "nbformat_minor": 5
}
